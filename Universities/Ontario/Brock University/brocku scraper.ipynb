{
 "cells": [
  {
   "cell_type": "code",
   "execution_count": null,
   "metadata": {},
   "outputs": [
    {
     "name": "stderr",
     "output_type": "stream",
     "text": [
      "Using TensorFlow backend.\n"
     ]
    },
    {
     "name": "stdout",
     "output_type": "stream",
     "text": [
      "Kristen Atack katack@brocku.ca\n",
      "Monica Drenth mdrenth@brocku.ca\n",
      "Henry Gerbrandt hgerbrandt@brocku.ca\n",
      "Laura Lane llane@brocku.ca\n",
      "Philipp Lesmana plesmana@brocku.ca\n",
      "Sarah Miller smiller2@brocku.ca\n",
      "Allyson Miller amiller4@brocku.ca\n",
      "Gail I Neff gneff@brocku.ca\n",
      "Maggie Whitfield mwhitfield@brocku.ca\n"
     ]
    }
   ],
   "source": [
    "# import modules\n",
    "from selenium import webdriver\n",
    "from selenium.webdriver.common.keys import Keys\n",
    "from selenium.webdriver.support.ui import Select\n",
    "from bs4 import BeautifulSoup\n",
    "import pandas as pd\n",
    "import ethnicolr as ec\n",
    "from time import sleep\n",
    "from pathlib import Path\n",
    "\n",
    "# open browser and go to directory\n",
    "driver = str(Path().resolve().parents[2]) + \"\\Tools\\geckodriver.exe\"\n",
    "browser = webdriver.Firefox(executable_path=driver)\n",
    "browser.get('https://brocku.ca/directory/')\n",
    "\n",
    "# find department selection box and submit button\n",
    "submit_button = browser.find_element_by_id('submit')\n",
    "departments_select = Select(browser.find_element_by_id('departments'))\n",
    "departments_labels = [o.text for o in departments_select.options][1:]\n",
    "\n",
    "# dictionary to hold data\n",
    "data = {\n",
    "    'First Name' : [],\n",
    "    'Last Name' : [],\n",
    "    'Email' : []\n",
    "}\n",
    "\n",
    "# scrape all departments\n",
    "for department_label in departments_labels:\n",
    "    # select next department and click submit\n",
    "    departments_select.select_by_visible_text(department_label)\n",
    "    submit_button.click()\n",
    "\n",
    "    # use BeautifulSoup to parse raw code\n",
    "    soup=BeautifulSoup(browser.page_source,'lxml')\n",
    "\n",
    "    # find data table and its contents\n",
    "    datatable = soup.find(\"table\", id=\"datatable\")\n",
    "    tablebody = datatable.find(\"tbody\")\n",
    "    rows = tablebody.find_all(\"tr\")\n",
    "\n",
    "    # iterate through each person\n",
    "    for row in rows:\n",
    "        # make sure results were found\n",
    "        if row.find(\"td\", string=\"Sorry, no results were found.\"):\n",
    "            break\n",
    "        else:\n",
    "            # obtain contact info\n",
    "            fname = row.find(\"td\", class_=\"firstname\").get_text()\n",
    "            lname = row.find(\"td\", class_=\"lastname\").get_text()\n",
    "            email = row.find(\"td\", class_=\"email\").get_text()\n",
    "\n",
    "            # edge cases for if table cell is empty\n",
    "            if fname == \"\":\n",
    "                fname = \"N.A.\"\n",
    "            if lname == \"\":\n",
    "                lname = \"N.A.\"\n",
    "            if email == \"\":\n",
    "                email = \"No Email\"\n",
    "\n",
    "            # store contact info in data dictionary\n",
    "            data['First Name'] += [fname]\n",
    "            data['Last Name'] += [lname]\n",
    "            data['Email'] += [email]\n",
    "\n",
    "            print(fname, lname, email)\n",
    "        \n",
    "    # pause scraping for 10 seconds (standard)\n",
    "    sleep(10)\n",
    "    \n",
    "# create pandas dataframe and remove any duplicate entries\n",
    "df = pd.DataFrame(data)\n",
    "df = df.drop_duplicates()\n",
    "    \n",
    "# determine ethnicity\n",
    "df = ec.pred_wiki_name(df,list(df)[1],list(df)[0])\n",
    "    \n",
    "# print dataframe and write data to csv file\n",
    "print(df)\n",
    "df.to_csv(\"brock parsed.csv\")\n",
    "\n",
    "# close browser\n",
    "browser.quit()"
   ]
  }
 ],
 "metadata": {
  "kernelspec": {
   "display_name": "Python 3",
   "language": "python",
   "name": "python3"
  },
  "language_info": {
   "codemirror_mode": {
    "name": "ipython",
    "version": 3
   },
   "file_extension": ".py",
   "mimetype": "text/x-python",
   "name": "python",
   "nbconvert_exporter": "python",
   "pygments_lexer": "ipython3",
   "version": "3.7.3"
  }
 },
 "nbformat": 4,
 "nbformat_minor": 2
}
