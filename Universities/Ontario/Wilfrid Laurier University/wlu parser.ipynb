{
 "cells": [
  {
   "cell_type": "code",
   "execution_count": 20,
   "metadata": {},
   "outputs": [],
   "source": [
    "import pandas as pd\n",
    "import ethnicolr as ec\n",
    "\n",
    "df = pd.read_csv(\"data.csv\", low_memory=False)\n",
    "for i in df.index:\n",
    "    if \"Dr. \" in df.at[i, 'Name']:\n",
    "        df.at[i, 'Name'] = df.at[i, 'Name'][4:]\n",
    "    if \"Dr \" in df.at[i, 'Name']:\n",
    "        df.at[i, 'Name'] = df.at[i, 'Name'][3:]\n",
    "df[[\"First Name\", \"Last Name\"]] = df[\"Name\"].str.split(\" \", n = 1, expand = True) \n",
    "df.drop(columns =[\"Name\"], inplace = True)\n",
    "df = df[['First Name', 'Last Name', 'E-mail']]\n",
    "df = ec.pred_wiki_name(df,list(df)[1],list(df)[0])\n",
    "df.to_csv(\"wlu parsed.csv\")"
   ]
  }
 ],
 "metadata": {
  "kernelspec": {
   "display_name": "Python 3",
   "language": "python",
   "name": "python3"
  },
  "language_info": {
   "codemirror_mode": {
    "name": "ipython",
    "version": 3
   },
   "file_extension": ".py",
   "mimetype": "text/x-python",
   "name": "python",
   "nbconvert_exporter": "python",
   "pygments_lexer": "ipython3",
   "version": "3.7.3"
  }
 },
 "nbformat": 4,
 "nbformat_minor": 2
}
